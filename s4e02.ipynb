{
  "nbformat": 4,
  "nbformat_minor": 0,
  "metadata": {
    "colab": {
      "provenance": []
    },
    "kernelspec": {
      "name": "python3",
      "display_name": "Python 3"
    },
    "language_info": {
      "name": "python"
    }
  },
  "cells": [
    {
      "cell_type": "code",
      "execution_count": null,
      "metadata": {
        "id": "rCOKPdZ8yeKv"
      },
      "outputs": [],
      "source": [
        "import warnings\n",
        "warnings.filterwarnings(\"ignore\")\n",
        "\n",
        "import numpy as np, pandas as pd\n",
        "import matplotlib.pyplot as plt\n",
        "import seaborn as sns\n",
        "from sklearn.pipeline import make_pipeline, Pipeline\n",
        "from sklearn.preprocessing import StandardScaler, MinMaxScaler\n",
        "from category_encoders import OneHotEncoder, CatBoostEncoder, MEstimateEncoder\n",
        "from sklearn.model_selection import StratifiedGroupKFold\n",
        "\n",
        "\n",
        "from xgboost import XGBClassifier\n",
        "from catboost import CatBoostClassifier\n",
        "from lightgbm import LGBMClassifier\n",
        "from sklearn.ensemble import RandomForestClassifier\n",
        "from sklearn.linear_model import RidgeClassifier, LogisticRegression\n",
        "\n",
        "from sklearn import set_config\n",
        "import os\n",
        "from sklearn.preprocessing import FunctionTransformer\n",
        "from sklearn.model_selection import StratifiedKFold\n",
        "import optuna\n",
        "from sklearn.compose import ColumnTransformer\n",
        "from prettytable import PrettyTable\n",
        "\n",
        "from sklearn.compose import make_column_transformer\n",
        "from sklearn.base import clone\n",
        "from sklearn.base import BaseEstimator, TransformerMixin\n",
        "from sklearn.metrics import accuracy_score\n",
        "import optuna\n",
        "from sklearn.metrics import confusion_matrix, ConfusionMatrixDisplay"
      ]
    },
    {
      "cell_type": "code",
      "source": [
        "# Set Prameters for Reproduciblity\n",
        "pd.set_option(\"display.max_rows\",100)\n",
        "FILE_PATH = \"/content/playground-series-s4e2/\"\n",
        "TARGET = \"NObeyesdad\"\n",
        "n_splits = 10\n",
        "RANDOM_SEED = 43"
      ],
      "metadata": {
        "id": "f-hqFcTgz6t3"
      },
      "execution_count": null,
      "outputs": []
    },
    {
      "cell_type": "code",
      "source": [
        "# load all data\n",
        "train = pd.read_csv(os.path.join(FILE_PATH, \"train.csv\"))\n",
        "test = pd.read_csv(os.path.join(FILE_PATH, \"test.csv\"))\n",
        "sample_sub = pd.read_csv(os.path.join(FILE_PATH, \"sample_submission.csv\"))\n",
        "train_org = pd.read_csv(\"/content/obesity-or-cvd-risk-classifyregressorcluster/ObesityDataSet.csv\")"
      ],
      "metadata": {
        "id": "-xVqatl3TwKF"
      },
      "execution_count": null,
      "outputs": []
    },
    {
      "cell_type": "code",
      "source": [
        "def prettify_df(df):\n",
        "    table = PrettyTable()\n",
        "    table.field_names = df.columns\n",
        "\n",
        "    for row in df.values:\n",
        "        table.add_row(row)\n",
        "    print(table)"
      ],
      "metadata": {
        "id": "BIHNBUR2T02Y"
      },
      "execution_count": null,
      "outputs": []
    },
    {
      "cell_type": "code",
      "source": [
        "train.head(10)"
      ],
      "metadata": {
        "id": "DQ8fW7ljT27A"
      },
      "execution_count": null,
      "outputs": []
    }
  ]
}